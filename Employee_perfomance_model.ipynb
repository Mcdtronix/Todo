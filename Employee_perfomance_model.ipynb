{
  "nbformat": 4,
  "nbformat_minor": 0,
  "metadata": {
    "colab": {
      "provenance": [],
      "authorship_tag": "ABX9TyMD0ElnkExFrv/zmQCdH8ea",
      "include_colab_link": true
    },
    "kernelspec": {
      "name": "python3",
      "display_name": "Python 3"
    },
    "language_info": {
      "name": "python"
    }
  },
  "cells": [
    {
      "cell_type": "markdown",
      "metadata": {
        "id": "view-in-github",
        "colab_type": "text"
      },
      "source": [
        "<a href=\"https://colab.research.google.com/github/Mcdtronix/Todo/blob/master/Employee_perfomance_model.ipynb\" target=\"_parent\"><img src=\"https://colab.research.google.com/assets/colab-badge.svg\" alt=\"Open In Colab\"/></a>"
      ]
    },
    {
      "cell_type": "code",
      "execution_count": 2,
      "metadata": {
        "colab": {
          "base_uri": "https://localhost:8080/"
        },
        "id": "kzlGrMns0I3K",
        "outputId": "050400ad-72e8-4626-86b4-6320d71ef80c"
      },
      "outputs": [
        {
          "output_type": "stream",
          "name": "stdout",
          "text": [
            "✅ Data loaded successfully!\n",
            "Dataset shape: (1470, 35)\n",
            "Target variable 'PerformanceRating' values: {3: 1244, 4: 226}\n"
          ]
        }
      ],
      "source": [
        "import pandas as pd\n",
        "import numpy as np\n",
        "from sklearn.model_selection import train_test_split\n",
        "from sklearn.preprocessing import StandardScaler\n",
        "from sklearn.ensemble import RandomForestClassifier\n",
        "from sklearn.metrics import classification_report, confusion_matrix\n",
        "import joblib\n",
        "\n",
        "# Load data\n",
        "df = pd.read_csv('WA_Fn-UseC_-HR-Employee-Attrition.csv')\n",
        "\n",
        "# Define target variable\n",
        "target = 'PerformanceRating'\n",
        "\n",
        "print(\"✅ Data loaded successfully!\")\n",
        "print(f\"Dataset shape: {df.shape}\")\n",
        "print(f\"Target variable '{target}' values: {df[target].value_counts().to_dict()}\")"
      ]
    },
    {
      "cell_type": "code",
      "source": [
        "# Essential features for performance prediction\n",
        "primary_features = [\n",
        "    'Age',\n",
        "    'Gender',\n",
        "    'MaritalStatus',\n",
        "    'DistanceFromHome',\n",
        "    'Education',\n",
        "    'JobRole',\n",
        "    'Department',\n",
        "    'JobLevel',\n",
        "    'TotalWorkingYears',\n",
        "    'YearsAtCompany',\n",
        "    'YearsInCurrentRole',\n",
        "    'YearsSinceLastPromotion',\n",
        "    'YearsWithCurrManager',\n",
        "    'MonthlyIncome',\n",
        "    'PercentSalaryHike',\n",
        "    'StockOptionLevel',\n",
        "    'JobSatisfaction',\n",
        "    'EnvironmentSatisfaction',\n",
        "    'RelationshipSatisfaction',\n",
        "    'WorkLifeBalance',\n",
        "    'TrainingTimesLastYear',\n",
        "    'JobInvolvement',\n",
        "    'BusinessTravel',\n",
        "    'OverTime',\n",
        "    'NumCompaniesWorked',\n",
        "]"
      ],
      "metadata": {
        "id": "eAtwv_o-1aMz"
      },
      "execution_count": 3,
      "outputs": []
    },
    {
      "cell_type": "code",
      "source": [
        "def engineer_features(df):\n",
        "    df_eng = df.copy()\n",
        "\n",
        "    # Experience ratios\n",
        "    df_eng['TenureRatio'] = df_eng['YearsAtCompany'] / (df_eng['TotalWorkingYears'] + 1)\n",
        "    df_eng['RoleStability'] = df_eng['YearsInCurrentRole'] / (df_eng['YearsAtCompany'] + 1)\n",
        "    df_eng['PromotionVelocity'] = df_eng['YearsAtCompany'] / (df_eng['YearsSinceLastPromotion'] + 1)\n",
        "\n",
        "    # Satisfaction composite score\n",
        "    satisfaction_cols = ['JobSatisfaction', 'EnvironmentSatisfaction', 'RelationshipSatisfaction', 'WorkLifeBalance']\n",
        "    df_eng['SatisfactionScore'] = df_eng[satisfaction_cols].mean(axis=1)\n",
        "\n",
        "    # Career progression indicator\n",
        "    df_eng['CareerMomentum'] = (df_eng['PercentSalaryHike'] * df_eng['StockOptionLevel'] * df_eng['PromotionVelocity'])\n",
        "\n",
        "    # Training effectiveness\n",
        "    df_eng['TrainingIntensity'] = df_eng['TrainingTimesLastYear'] / (df_eng['YearsAtCompany'] + 1)\n",
        "\n",
        "    return df_eng\n",
        "\n",
        "# Apply feature engineering\n",
        "df_processed = engineer_features(df)"
      ],
      "metadata": {
        "id": "ta85RW071kKe"
      },
      "execution_count": 4,
      "outputs": []
    },
    {
      "cell_type": "code",
      "source": [
        "categorical_features = [\n",
        "    'BusinessTravel',\n",
        "    'Department',\n",
        "    'Education',\n",
        "    'Gender',\n",
        "    'JobRole',\n",
        "    'MaritalStatus',\n",
        "    'OverTime'\n",
        "]\n",
        "\n",
        "# One-hot encode categorical variables\n",
        "df_encoded = pd.get_dummies(df_processed, columns=categorical_features, drop_first=True, dtype=int)"
      ],
      "metadata": {
        "id": "rO9qDzlg1qxg"
      },
      "execution_count": 5,
      "outputs": []
    },
    {
      "cell_type": "code",
      "source": [
        "# Prepare final feature set\n",
        "feature_cols = [col for col in df_encoded.columns if col not in [target, 'Attrition', 'EmployeeNumber', 'EmployeeCount', 'StandardHours', 'Over18']]\n",
        "X = df_encoded[feature_cols]\n",
        "y = df_encoded[target]\n",
        "\n",
        "# Split data\n",
        "X_train, X_test, y_train, y_test = train_test_split(X, y, test_size=0.2, random_state=42, stratify=y)\n",
        "\n",
        "# Select only numerical columns for scaling\n",
        "X_train_numeric = X_train.select_dtypes(include=np.number)\n",
        "X_test_numeric = X_test.select_dtypes(include=np.number)\n",
        "\n",
        "# Scale features\n",
        "scaler = StandardScaler()\n",
        "X_train_scaled = scaler.fit_transform(X_train_numeric)\n",
        "X_test_scaled = scaler.transform(X_test_numeric)"
      ],
      "metadata": {
        "id": "8sp6NLf71sd_"
      },
      "execution_count": 6,
      "outputs": []
    },
    {
      "cell_type": "code",
      "source": [
        "# ----------------------------------------\n",
        "# Train Random Forest Model\n",
        "# ----------------------------------------\n",
        "from sklearn.ensemble import RandomForestClassifier\n",
        "\n",
        "# Initialize model\n",
        "model = RandomForestClassifier(\n",
        "    n_estimators=200,\n",
        "    random_state=42,\n",
        "    max_depth=None,\n",
        "    class_weight=\"balanced\",\n",
        ")\n",
        "\n",
        "# Train the model using the scaled numeric features\n",
        "model.fit(X_train_scaled, y_train)\n",
        "\n",
        "# ----------------------------------------\n",
        "# Evaluate the model\n",
        "# ----------------------------------------\n",
        "y_pred = model.predict(X_test_scaled)\n",
        "\n",
        "from sklearn.metrics import classification_report, confusion_matrix\n",
        "\n",
        "print(\"✅ Model trained successfully!\\n\")\n",
        "print(\"Confusion Matrix:\")\n",
        "print(confusion_matrix(y_test, y_pred))\n",
        "print(\"\\nClassification Report:\")\n",
        "print(classification_report(y_test, y_pred))\n"
      ],
      "metadata": {
        "colab": {
          "base_uri": "https://localhost:8080/"
        },
        "id": "1HPypr0j10EX",
        "outputId": "fe2ac9bf-0770-4d47-badd-14bf8d148d83"
      },
      "execution_count": 8,
      "outputs": [
        {
          "output_type": "stream",
          "name": "stdout",
          "text": [
            "✅ Model trained successfully!\n",
            "\n",
            "Confusion Matrix:\n",
            "[[249   0]\n",
            " [  0  45]]\n",
            "\n",
            "Classification Report:\n",
            "              precision    recall  f1-score   support\n",
            "\n",
            "           3       1.00      1.00      1.00       249\n",
            "           4       1.00      1.00      1.00        45\n",
            "\n",
            "    accuracy                           1.00       294\n",
            "   macro avg       1.00      1.00      1.00       294\n",
            "weighted avg       1.00      1.00      1.00       294\n",
            "\n"
          ]
        }
      ]
    },
    {
      "cell_type": "code",
      "source": [
        "# Save the trained model and scaler\n",
        "# joblib.dump(model, 'random_forest_performance_model.pkl') # Moved to cell eab75b67\n",
        "# joblib.dump(scaler, 'scaler.pkl') # Moved to cell eab75b67\n",
        "\n",
        "print(\"Model and scaler saving is now handled in the training cell.\")"
      ],
      "metadata": {
        "colab": {
          "base_uri": "https://localhost:8080/"
        },
        "id": "S-OSHNdU2pVJ",
        "outputId": "6bf66e9d-ea1a-43d5-d65c-c7b0ef8d6fbf"
      },
      "execution_count": 9,
      "outputs": [
        {
          "output_type": "stream",
          "name": "stdout",
          "text": [
            "Model and scaler saving is now handled in the training cell.\n"
          ]
        }
      ]
    },
    {
      "cell_type": "code",
      "source": [
        "# Identify non-numeric columns in the original split data that were not one-hot encoded\n",
        "non_numeric_cols_train = X_train.select_dtypes(exclude=np.number).columns\n",
        "non_numeric_cols_test = X_test.select_dtypes(exclude=np.number).columns\n",
        "\n",
        "# Apply one-hot encoding to the remaining non-numeric columns\n",
        "X_train_non_numeric_encoded = pd.get_dummies(X_train[non_numeric_cols_train], drop_first=True, dtype=int)\n",
        "X_test_non_numeric_encoded = pd.get_dummies(X_test[non_numeric_cols_test], drop_first=True, dtype=int)\n",
        "\n",
        "# Create DataFrames from numerical features, preserving original column names\n",
        "X_train_numeric_df = pd.DataFrame(X_train_numeric, columns=X_train_numeric.columns, index=X_train.index)\n",
        "X_test_numeric_df = pd.DataFrame(X_test_numeric, columns=X_test_numeric.columns, index=X_test.index)\n",
        "\n",
        "\n",
        "# Concatenate numerical features with encoded non-numeric features\n",
        "X_train_processed = pd.concat([X_train_numeric_df, X_train_non_numeric_encoded], axis=1)\n",
        "X_test_processed = pd.concat([X_test_numeric_df, X_test_non_numeric_encoded], axis=1)\n",
        "\n",
        "\n",
        "# Scale the *entire* processed training data\n",
        "scaler = StandardScaler()\n",
        "X_train_scaled = scaler.fit_transform(X_train_processed)\n",
        "X_test_scaled = scaler.transform(X_test_processed)\n",
        "\n",
        "\n",
        "# Convert scaled arrays back to DataFrames to preserve column names\n",
        "X_train_scaled_df = pd.DataFrame(X_train_scaled, columns=X_train_processed.columns, index=X_train_processed.index)\n",
        "X_test_scaled_df = pd.DataFrame(X_test_scaled, columns=X_test_processed.columns, index=X_test_processed.index)\n",
        "\n",
        "\n",
        "# Initialize and train the RandomForestClassifier\n",
        "model = RandomForestClassifier(n_estimators=100, random_state=42)\n",
        "model.fit(X_train_scaled_df, y_train) # Use scaled data for training\n",
        "\n",
        "# Save the trained model and scaler *after* fitting\n",
        "joblib.dump(model, 'random_forest_performance_model.pkl')\n",
        "joblib.dump(scaler, 'scaler.pkl')\n",
        "\n",
        "print(\"Model training complete.\")\n",
        "print(\"Model and scaler saved.\")"
      ],
      "metadata": {
        "colab": {
          "base_uri": "https://localhost:8080/"
        },
        "id": "mYlVIzW22vvU",
        "outputId": "e6fd5f4b-d48a-4ca6-bd5c-6f99f0984ccc"
      },
      "execution_count": 10,
      "outputs": [
        {
          "output_type": "stream",
          "name": "stdout",
          "text": [
            "Model training complete.\n",
            "Model and scaler saved.\n"
          ]
        }
      ]
    },
    {
      "cell_type": "code",
      "source": [
        "# Train model\n",
        "rf_model = RandomForestClassifier(n_estimators=200, max_depth=15, min_samples_split=10, min_samples_leaf=5, class_weight='balanced', random_state=42, n_jobs=-1)\n",
        "rf_model.fit(X_train_scaled, y_train)\n",
        "\n",
        "# Predictions\n",
        "y_pred = rf_model.predict(X_test_scaled)\n",
        "\n",
        "# Evaluation\n",
        "print(\"\\nClassification Report:\")\n",
        "print(classification_report(y_test, y_pred))\n",
        "\n",
        "print(\"\\nConfusion Matrix:\")\n",
        "print(confusion_matrix(y_test, y_pred))\n",
        "\n",
        "# Save the model\n",
        "joblib.dump(rf_model, 'employee_performance_model.pkl')"
      ],
      "metadata": {
        "colab": {
          "base_uri": "https://localhost:8080/"
        },
        "id": "AJzVPZdr21m0",
        "outputId": "9dc5613d-5b43-4284-8f94-ed25e58a88ab"
      },
      "execution_count": 11,
      "outputs": [
        {
          "output_type": "stream",
          "name": "stdout",
          "text": [
            "\n",
            "Classification Report:\n",
            "              precision    recall  f1-score   support\n",
            "\n",
            "           3       1.00      1.00      1.00       249\n",
            "           4       1.00      1.00      1.00        45\n",
            "\n",
            "    accuracy                           1.00       294\n",
            "   macro avg       1.00      1.00      1.00       294\n",
            "weighted avg       1.00      1.00      1.00       294\n",
            "\n",
            "\n",
            "Confusion Matrix:\n",
            "[[249   0]\n",
            " [  0  45]]\n"
          ]
        },
        {
          "output_type": "execute_result",
          "data": {
            "text/plain": [
              "['employee_performance_model.pkl']"
            ]
          },
          "metadata": {},
          "execution_count": 11
        }
      ]
    },
    {
      "cell_type": "code",
      "source": [
        "def preprocess_new_employee_data(employee_data, training_columns, categorical_features):\n",
        "    \"\"\"\n",
        "    Preprocesses new employee data to match the format of the training data.\n",
        "\n",
        "    Args:\n",
        "        employee_data (dict): A dictionary containing the new employee's data.\n",
        "        training_columns (pd.Index): The columns of the training data.\n",
        "        categorical_features (list): A list of categorical feature names.\n",
        "\n",
        "    Returns:\n",
        "        pd.DataFrame: The preprocessed and aligned employee data DataFrame.\n",
        "    \"\"\"\n",
        "    employee_df = pd.DataFrame([employee_data])\n",
        "\n",
        "    # Apply feature engineering\n",
        "    employee_df_processed = engineer_features(employee_df)\n",
        "\n",
        "    # Apply one-hot encoding to categorical features\n",
        "    employee_df_encoded = pd.get_dummies(employee_df_processed, columns=categorical_features, drop_first=True, dtype=int)\n",
        "\n",
        "    # Reindex with training columns and fill missing values with 0\n",
        "    aligned_employee_df = employee_df_encoded.reindex(columns=training_columns, fill_value=0)\n",
        "\n",
        "    # Ensure column order matches training data\n",
        "    aligned_employee_df = aligned_employee_df[training_columns]\n",
        "\n",
        "    return aligned_employee_df\n",
        "\n",
        "\n",
        "def predict_performance(employee_data):\n",
        "    # Load the model and scaler\n",
        "    model = joblib.load('random_forest_performance_model.pkl')\n",
        "    scaler = joblib.load('scaler.pkl')\n",
        "\n",
        "    # Get training columns from the preprocessed training data\n",
        "    # This assumes X_train_processed is available in the environment\n",
        "    # If not, you would need to load or recreate the training columns somehow\n",
        "    training_cols = X_train_processed.columns\n",
        "\n",
        "    # Preprocess the new employee data using the helper function\n",
        "    aligned_employee_df = preprocess_new_employee_data(employee_data, training_cols, categorical_features)\n",
        "\n",
        "    # Apply scaler to the aligned and preprocessed input data\n",
        "    employee_scaled = scaler.transform(aligned_employee_df)\n",
        "\n",
        "    # Convert scaled array back to DataFrame to preserve column names\n",
        "    employee_processed_scaled_df = pd.DataFrame(employee_scaled, columns=aligned_employee_df.columns, index=aligned_employee_df.index)\n",
        "\n",
        "    # Make prediction\n",
        "    prediction = model.predict(employee_processed_scaled_df)\n",
        "    return prediction[0]\n",
        "\n",
        "# Example usage with multiple inputs\n",
        "employee_inputs = [\n",
        "    {\n",
        "        'Age': 30,\n",
        "        'Gender': 'Male',\n",
        "        'MaritalStatus': 'Single',\n",
        "        'DistanceFromHome': 5,\n",
        "        'Education': 'Bachelor',\n",
        "        'JobRole': 'Sales Executive',\n",
        "        'Department': 'Sales',\n",
        "        'JobLevel': 1,\n",
        "        'TotalWorkingYears': 5,\n",
        "        'YearsAtCompany': 3,\n",
        "        'YearsInCurrentRole': 2,\n",
        "        'YearsSinceLastPromotion': 1,\n",
        "        'YearsWithCurrManager': 2,\n",
        "        'MonthlyIncome': 5000,\n",
        "        'PercentSalaryHike': 5,\n",
        "        'StockOptionLevel': 1,\n",
        "        'JobSatisfaction': 4,\n",
        "        'EnvironmentSatisfaction': 3,\n",
        "        'RelationshipSatisfaction': 4,\n",
        "        'WorkLifeBalance': 3,\n",
        "        'TrainingTimesLastYear': 2,\n",
        "        'JobInvolvement': 3,\n",
        "        'BusinessTravel': 'Travel_Rarely',\n",
        "        'OverTime': 'No',\n",
        "        'NumCompaniesWorked': 1\n",
        "    },\n",
        "    {\n",
        "        'Age': 45,\n",
        "        'Gender': 'Female',\n",
        "        'MaritalStatus': 'Married',\n",
        "        'DistanceFromHome': 15,\n",
        "        'Education': 'Master',\n",
        "        'JobRole': 'Research Scientist',\n",
        "        'Department': 'Research & Development',\n",
        "        'JobLevel': 3,\n",
        "        'TotalWorkingYears': 20,\n",
        "        'YearsAtCompany': 15,\n",
        "        'YearsInCurrentRole': 10,\n",
        "        'YearsSinceLastPromotion': 5,\n",
        "        'YearsWithCurrManager': 10,\n",
        "        'MonthlyIncome': 10000,\n",
        "        'PercentSalaryHike': 10,\n",
        "        'StockOptionLevel': 2,\n",
        "        'JobSatisfaction': 5,\n",
        "        'EnvironmentSatisfaction': 5,\n",
        "        'RelationshipSatisfaction': 5,\n",
        "        'WorkLifeBalance': 4,\n",
        "        'TrainingTimesLastYear': 3,\n",
        "        'JobInvolvement': 4,\n",
        "        'BusinessTravel': 'Travel_Frequently',\n",
        "        'OverTime': 'Yes',\n",
        "        'NumCompaniesWorked': 2\n",
        "    },\n",
        "    {\n",
        "        'Age': 22,\n",
        "        'Gender': 'Male',\n",
        "        'MaritalStatus': 'Single',\n",
        "        'DistanceFromHome': 2,\n",
        "        'Education': 'High School',\n",
        "        'JobRole': 'Laboratory Technician',\n",
        "        'Department': 'Research & Development',\n",
        "        'JobLevel': 1,\n",
        "        'TotalWorkingYears': 1,\n",
        "        'YearsAtCompany': 1,\n",
        "        'YearsInCurrentRole': 0,\n",
        "        'YearsSinceLastPromotion': 0,\n",
        "        'YearsWithCurrManager': 0,\n",
        "        'MonthlyIncome': 3000,\n",
        "        'PercentSalaryHike': 15,\n",
        "        'StockOptionLevel': 0,\n",
        "        'JobSatisfaction': 2,\n",
        "        'EnvironmentSatisfaction': 2,\n",
        "        'RelationshipSatisfaction': 3,\n",
        "        'WorkLifeBalance': 2,\n",
        "        'TrainingTimesLastYear': 1,\n",
        "        'JobInvolvement': 2,\n",
        "        'BusinessTravel': 'Non-Travel',\n",
        "        'OverTime': 'No',\n",
        "        'NumCompaniesWorked': 1\n",
        "    }\n",
        "]\n",
        "\n",
        "for i, employee_input in enumerate(employee_inputs):\n",
        "    performance = predict_performance(employee_input)\n",
        "    # Assuming performance rating 3 and 4 are present in the training data, and 4 is better\n",
        "    risk_level = 'Low' if performance == 4 else 'High'\n",
        "    print(f'--- Employee Input {i+1} ---')\n",
        "    print(f'Predicted Performance: {performance}, Risk Level: {risk_level}')\n",
        "    print(\"-\" * 20)"
      ],
      "metadata": {
        "colab": {
          "base_uri": "https://localhost:8080/"
        },
        "id": "70aXlJM13LcM",
        "outputId": "0fc24f06-a51d-4fc3-bea4-8d91ef0a83c9"
      },
      "execution_count": 12,
      "outputs": [
        {
          "output_type": "stream",
          "name": "stdout",
          "text": [
            "--- Employee Input 1 ---\n",
            "Predicted Performance: 3, Risk Level: High\n",
            "--------------------\n",
            "--- Employee Input 2 ---\n",
            "Predicted Performance: 3, Risk Level: High\n",
            "--------------------\n",
            "--- Employee Input 3 ---\n",
            "Predicted Performance: 3, Risk Level: High\n",
            "--------------------\n"
          ]
        }
      ]
    },
    {
      "cell_type": "code",
      "source": [
        "def engineer_features(df):\n",
        "    df_eng = df.copy()\n",
        "\n",
        "    # Experience ratios\n",
        "    df_eng['TenureRatio'] = df_eng['YearsAtCompany'] / (df_eng['TotalWorkingYears'] + 1)\n",
        "    df_eng['RoleStability'] = df_eng['YearsInCurrentRole'] / (df_eng['YearsAtCompany'] + 1)\n",
        "    df_eng['PromotionVelocity'] = df_eng['YearsAtCompany'] / (df_eng['YearsSinceLastPromotion'] + 1)\n",
        "\n",
        "    # Satisfaction composite score\n",
        "    satisfaction_cols = ['JobSatisfaction', 'EnvironmentSatisfaction', 'RelationshipSatisfaction', 'WorkLifeBalance']\n",
        "    df_eng['SatisfactionScore'] = df_eng[satisfaction_cols].mean(axis=1)\n",
        "\n",
        "    # Career progression indicator\n",
        "    df_eng['CareerMomentum'] = (df_eng['PercentSalaryHike'] * df_eng['StockOptionLevel'] * df_eng['PromotionVelocity'])\n",
        "\n",
        "    # Training effectiveness\n",
        "    df_eng['TrainingIntensity'] = df_eng['TrainingTimesLastYear'] / (df_eng['YearsAtCompany'] + 1)\n",
        "\n",
        "    return df_eng\n",
        "\n",
        "def preprocess_new_employee_data(employee_data, training_columns, categorical_features):\n",
        "    \"\"\"\n",
        "    Preprocesses new employee data to match the format of the training data.\n",
        "\n",
        "    Args:\n",
        "        employee_data (dict): A dictionary containing the new employee's data.\n",
        "        training_columns (pd.Index): The columns of the training data.\n",
        "        categorical_features (list): A list of categorical feature names.\n",
        "\n",
        "    Returns:\n",
        "        pd.DataFrame: The preprocessed and aligned employee data DataFrame.\n",
        "    \"\"\"\n",
        "    employee_df = pd.DataFrame([employee_data])\n",
        "\n",
        "    # Apply feature engineering\n",
        "    employee_df_processed = engineer_features(employee_df)\n",
        "\n",
        "    # Apply one-hot encoding to categorical features\n",
        "    employee_df_encoded = pd.get_dummies(employee_df_processed, columns=categorical_features, drop_first=True, dtype=int)\n",
        "\n",
        "    # Reindex with training columns and fill missing values with 0\n",
        "    aligned_employee_df = employee_df_encoded.reindex(columns=training_columns, fill_value=0)\n",
        "\n",
        "    # Ensure column order matches training data\n",
        "    aligned_employee_df = aligned_employee_df[training_columns]\n",
        "\n",
        "    return aligned_employee_df\n",
        "\n",
        "\n",
        "def predict_performance(employee_data):\n",
        "    # Load the model and scaler\n",
        "    model = joblib.load('random_forest_performance_model.pkl') # Load the correct model\n",
        "    scaler = joblib.load('scaler.pkl')\n",
        "\n",
        "    # Get training columns from the preprocessed training data\n",
        "    # This assumes X_train_processed is available in the environment\n",
        "    # If not, you would need to load or recreate the training columns somehow\n",
        "    # For now, assuming X_train_processed is available from previous execution\n",
        "    training_cols = X_train_processed.columns\n",
        "\n",
        "    # Preprocess the new employee data using the helper function\n",
        "    aligned_employee_df = preprocess_new_employee_data(employee_data, training_cols, categorical_features)\n",
        "\n",
        "    # Apply scaler to the aligned and preprocessed input data\n",
        "    employee_scaled = scaler.transform(aligned_employee_df)\n",
        "\n",
        "    # Convert scaled array back to DataFrame to preserve column names (optional but good practice)\n",
        "    employee_processed_scaled_df = pd.DataFrame(employee_scaled, columns=aligned_employee_df.columns, index=aligned_employee_df.index)\n",
        "\n",
        "    # Make prediction\n",
        "    prediction = model.predict(employee_processed_scaled_df)\n",
        "    return prediction[0]\n",
        "\n",
        "# Example usage\n",
        "employee_input = {\n",
        "    'Age': 30,\n",
        "    'Gender': 'Male',\n",
        "    'MaritalStatus': 'Single',\n",
        "    'DistanceFromHome': 5,\n",
        "    'Education': 'Bachelor',\n",
        "    'JobRole': 'Sales Executive',\n",
        "    'Department': 'Sales',\n",
        "    'JobLevel': 1,\n",
        "    'TotalWorkingYears': 5,\n",
        "    'YearsAtCompany': 3,\n",
        "    'YearsInCurrentRole': 2,\n",
        "    'YearsSinceLastPromotion': 1,\n",
        "    'YearsWithCurrManager': 2,\n",
        "    'MonthlyIncome': 5000,\n",
        "    'PercentSalaryHike': 5,\n",
        "    'StockOptionLevel': 1,\n",
        "    'JobSatisfaction': 4,\n",
        "    'EnvironmentSatisfaction': 3,\n",
        "    'RelationshipSatisfaction': 4,\n",
        "    'WorkLifeBalance': 3,\n",
        "    'TrainingTimesLastYear': 2,\n",
        "    'JobInvolvement': 3,\n",
        "    'BusinessTravel': 'Travel_Rarely',\n",
        "    'OverTime': 'No',\n",
        "    'NumCompaniesWorked': 1\n",
        "}\n",
        "\n",
        "performance = predict_performance(employee_input)\n",
        "# Assuming performance rating 3 and 4 are present in the training data, and 4 is better\n",
        "risk_level = 'Low' if performance == 4 else 'High'\n",
        "print(f'Predicted Performance: {performance}, Risk Level: {risk_level}')"
      ],
      "metadata": {
        "colab": {
          "base_uri": "https://localhost:8080/"
        },
        "id": "2mvWc3rE3Pme",
        "outputId": "031209c1-b624-4be7-9beb-a490a1cf6093"
      },
      "execution_count": 13,
      "outputs": [
        {
          "output_type": "stream",
          "name": "stdout",
          "text": [
            "Predicted Performance: 3, Risk Level: High\n"
          ]
        }
      ]
    },
    {
      "cell_type": "code",
      "source": [
        "# Function to get employee data input from the user\n",
        "def get_employee_input():\n",
        "    employee_data = {}\n",
        "    print(\"Please enter employee data:\")\n",
        "\n",
        "    # Get numerical inputs\n",
        "    numerical_features = [\n",
        "        'Age', 'DistanceFromHome', 'Education', 'JobLevel', 'TotalWorkingYears',\n",
        "        'YearsAtCompany', 'YearsInCurrentRole', 'YearsSinceLastPromotion',\n",
        "        'YearsWithCurrManager', 'MonthlyIncome', 'PercentSalaryHike',\n",
        "        'StockOptionLevel', 'JobSatisfaction', 'EnvironmentSatisfaction',\n",
        "        'RelationshipSatisfaction', 'WorkLifeBalance', 'TrainingTimesLastYear',\n",
        "        'JobInvolvement', 'NumCompaniesWorked'\n",
        "    ]\n",
        "    for feature in numerical_features:\n",
        "        while True:\n",
        "            try:\n",
        "                value = float(input(f\"Enter {feature}: \"))\n",
        "                employee_data[feature] = value\n",
        "                break\n",
        "            except ValueError:\n",
        "                print(\"Invalid input. Please enter a number.\")\n",
        "\n",
        "    # Get categorical inputs\n",
        "    categorical_features_input = {\n",
        "        'Gender': ['Male', 'Female'],\n",
        "        'MaritalStatus': ['Single', 'Married', 'Divorced'],\n",
        "        'JobRole': ['Sales Executive', 'Research Scientist', 'Laboratory Technician',\n",
        "                    'Manufacturing Director', 'Healthcare Representative', 'Manager',\n",
        "                    'Sales Representative', 'Research Director', 'Human Resources'],\n",
        "        'Department': ['Sales', 'Research & Development', 'Human Resources'],\n",
        "        'BusinessTravel': ['Travel_Rarely', 'Travel_Frequently', 'Non-Travel'],\n",
        "        'OverTime': ['Yes', 'No']\n",
        "    }\n",
        "    for feature, categories in categorical_features_input.items():\n",
        "        while True:\n",
        "            value = input(f\"Enter {feature} {categories}: \")\n",
        "            if value in categories:\n",
        "                employee_data[feature] = value\n",
        "                break\n",
        "            else:\n",
        "                print(f\"Invalid input. Please enter one of: {categories}\")\n",
        "\n",
        "    # Add other necessary features that might be in the training data but not explicitly asked\n",
        "    # You might need to adjust this based on the full list of features in X_train_processed.columns\n",
        "    # For simplicity, adding some common ones with default values if not already captured\n",
        "    if 'EducationField' not in employee_data:\n",
        "        employee_data['EducationField'] = 'Life Sciences' # Default or handle appropriately\n",
        "    if 'DailyRate' not in employee_data:\n",
        "         employee_data['DailyRate'] = 800 # Default or handle appropriately\n",
        "    if 'HourlyRate' not in employee_data:\n",
        "         employee_data['HourlyRate'] = 65 # Default or handle appropriately\n",
        "    if 'JobInvolvement' not in employee_data:\n",
        "         employee_data['JobInvolvement'] = 3 # Default or handle appropriately\n",
        "    if 'JobSatisfaction' not in employee_data:\n",
        "         employee_data['JobSatisfaction'] = 3 # Default or handle appropriately\n",
        "    if 'PerformanceRating' not in employee_data:\n",
        "         employee_data['PerformanceRating'] = 3 # Default or handle appropriately - will be replaced by prediction\n",
        "\n",
        "\n",
        "    return employee_data\n",
        "\n",
        "# Get employee data from user\n",
        "new_employee_data = get_employee_input()\n",
        "\n",
        "# Predict performance\n",
        "predicted_performance = predict_performance(new_employee_data)\n",
        "\n",
        "# Determine risk level\n",
        "# Assuming performance rating 3 and 4 are present in the training data, and 4 is better\n",
        "risk_level = 'Low' if predicted_performance == 4 else 'High'\n",
        "\n",
        "# Display result\n",
        "print(f\"\\nPredicted Performance Rating: {predicted_performance}\")\n",
        "print(f\"Predicted Risk Level: {risk_level}\")"
      ],
      "metadata": {
        "colab": {
          "base_uri": "https://localhost:8080/"
        },
        "id": "nHcpOkN93Uu8",
        "outputId": "eb25f583-5e69-48cc-b634-171af0447e93"
      },
      "execution_count": 14,
      "outputs": [
        {
          "output_type": "stream",
          "name": "stdout",
          "text": [
            "Please enter employee data:\n",
            "Enter Age: 34\n",
            "Enter DistanceFromHome: 5\n",
            "Enter Education: tertiary\n",
            "Invalid input. Please enter a number.\n",
            "Enter Education: 3\n",
            "Enter JobLevel: 3\n",
            "Enter TotalWorkingYears: 5\n",
            "Enter YearsAtCompany: 5\n",
            "Enter YearsInCurrentRole: 2\n",
            "Enter YearsSinceLastPromotion: 1\n",
            "Enter YearsWithCurrManager: 1\n",
            "Enter MonthlyIncome: 1000\n",
            "Enter PercentSalaryHike: 20\n",
            "Enter StockOptionLevel: 2\n",
            "Enter JobSatisfaction: 1\n",
            "Enter EnvironmentSatisfaction: 0\n",
            "Enter RelationshipSatisfaction: 1\n",
            "Enter WorkLifeBalance: 0\n",
            "Enter TrainingTimesLastYear: 1\n",
            "Enter JobInvolvement: 1\n",
            "Enter NumCompaniesWorked: 2\n",
            "Enter Gender ['Male', 'Female']: male\n",
            "Invalid input. Please enter one of: ['Male', 'Female']\n",
            "Enter Gender ['Male', 'Female']: Male\n",
            "Enter MaritalStatus ['Single', 'Married', 'Divorced']: Married\n",
            "Enter JobRole ['Sales Executive', 'Research Scientist', 'Laboratory Technician', 'Manufacturing Director', 'Healthcare Representative', 'Manager', 'Sales Representative', 'Research Director', 'Human Resources']: Human Resources\n",
            "Enter Department ['Sales', 'Research & Development', 'Human Resources']: Human Resources\n",
            "Enter BusinessTravel ['Travel_Rarely', 'Travel_Frequently', 'Non-Travel']: Non-Travel\n",
            "Enter OverTime ['Yes', 'No']: No\n",
            "\n",
            "Predicted Performance Rating: 4\n",
            "Predicted Risk Level: Low\n"
          ]
        }
      ]
    },
    {
      "cell_type": "code",
      "source": [
        "def generate_risk_alert(performance):\n",
        "    if performance == 1:  # Assuming 1 indicates low performance\n",
        "        return 'Low Risk'\n",
        "    elif performance == 2:  # Assuming 2 indicates medium performance\n",
        "        return 'Medium Risk'\n",
        "    else:  # Any other value indicates high performance\n",
        "        return 'High Risk'\n",
        "\n",
        "risk_alert = generate_risk_alert(performance)\n",
        "print(f'Risk Alert: {risk_alert}')"
      ],
      "metadata": {
        "colab": {
          "base_uri": "https://localhost:8080/"
        },
        "id": "pRi_1ECw4W3b",
        "outputId": "da43336d-0cdf-4384-9c10-828075980935"
      },
      "execution_count": 15,
      "outputs": [
        {
          "output_type": "stream",
          "name": "stdout",
          "text": [
            "Risk Alert: High Risk\n"
          ]
        }
      ]
    },
    {
      "cell_type": "code",
      "source": [
        "import joblib\n",
        "\n",
        "model1 = joblib.load('employee_performance_model.pkl')\n",
        "model2 = joblib.load('random_forest_performance_model.pkl')\n",
        "\n",
        "print(model1)\n",
        "print(model2)\n"
      ],
      "metadata": {
        "colab": {
          "base_uri": "https://localhost:8080/"
        },
        "id": "YGKhncir6b9Z",
        "outputId": "73b46397-f3d6-4fa9-c07b-bef2edab753e"
      },
      "execution_count": 16,
      "outputs": [
        {
          "output_type": "stream",
          "name": "stdout",
          "text": [
            "RandomForestClassifier(class_weight='balanced', max_depth=15,\n",
            "                       min_samples_leaf=5, min_samples_split=10,\n",
            "                       n_estimators=200, n_jobs=-1, random_state=42)\n",
            "RandomForestClassifier(random_state=42)\n"
          ]
        }
      ]
    }
  ]
}